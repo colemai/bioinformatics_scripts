{
 "cells": [
  {
   "cell_type": "markdown",
   "metadata": {},
   "source": [
    "## Module 1 programming homework"
   ]
  },
  {
   "cell_type": "code",
   "execution_count": 3,
   "metadata": {},
   "outputs": [],
   "source": [
    "def reverseComplement (s):\n",
    "    complement = {'A': 'T', 'C': 'G', 'G': 'C', 'T': 'A', 'N': 'N'}\n",
    "    t = ''\n",
    "    for base in s:\n",
    "        t = complement[base] + t\n",
    "    return t"
   ]
  },
  {
   "cell_type": "code",
   "execution_count": 4,
   "metadata": {},
   "outputs": [],
   "source": [
    "def naive_match_seq (p, t):\n",
    "    occurrences = []\n",
    "    rev_comp = reverseComplement(p)\n",
    "    for i in range(len(t) - len(p) + 1):  # loop over alignments\n",
    "        match = 0\n",
    "        for j in range(len(p)):  # loop over characters\n",
    "            if t[i+j] != p[j]:  # compare characters\n",
    "                match += 1\n",
    "                break\n",
    "        for j in range(len(p)):  # loop over characters\n",
    "            if t[i+j] != rev_comp[j]:  # compare characters\n",
    "                match += 1\n",
    "                break  \n",
    "        if match < 2:\n",
    "            occurrences.append(i)  # all chars matched; record\n",
    "    return occurrences"
   ]
  },
  {
   "cell_type": "code",
   "execution_count": 18,
   "metadata": {},
   "outputs": [],
   "source": [
    "def naive_2mm (p, t):\n",
    "    occurrences = []\n",
    "    for i in range(len(t) - len(p) + 1):  # loop over alignments\n",
    "        mismatch = 0\n",
    "        for j in range(len(p)):  # loop over characters\n",
    "            if t[i+j] != p[j]:  # compare characters\n",
    "                mismatch += 1\n",
    "        if mismatch < 3:\n",
    "            occurrences.append(i)  # all chars matched; record\n",
    "    return occurrences"
   ]
  },
  {
   "cell_type": "code",
   "execution_count": 6,
   "metadata": {},
   "outputs": [],
   "source": [
    "def readGenome(filename):\n",
    "    genome = ''\n",
    "    with open(filename, 'r') as f:\n",
    "        for line in f:\n",
    "            # ignore header line with genome information\n",
    "            if not line[0] == '>':\n",
    "                genome += line.rstrip()\n",
    "    return genome"
   ]
  },
  {
   "cell_type": "code",
   "execution_count": 5,
   "metadata": {},
   "outputs": [
    {
     "name": "stdout",
     "output_type": "stream",
     "text": [
      "--2019-08-08 10:01:47--  https://d28rh4a8wq0iu5.cloudfront.net/ads1/data/lambda_virus.fa\n",
      "Resolving d28rh4a8wq0iu5.cloudfront.net (d28rh4a8wq0iu5.cloudfront.net)... 13.224.86.153, 13.224.86.190, 13.224.86.91, ...\n",
      "Connecting to d28rh4a8wq0iu5.cloudfront.net (d28rh4a8wq0iu5.cloudfront.net)|13.224.86.153|:443... connected.\n",
      "HTTP request sent, awaiting response... 200 OK\n",
      "Length: 49270 (48K) [application/octet-stream]\n",
      "Saving to: ‘lambda_virus.fa’\n",
      "\n",
      "lambda_virus.fa     100%[===================>]  48.12K  --.-KB/s    in 0.1s    \n",
      "\n",
      "2019-08-08 10:01:48 (386 KB/s) - ‘lambda_virus.fa’ saved [49270/49270]\n",
      "\n"
     ]
    }
   ],
   "source": [
    "! wget --no-check https://d28rh4a8wq0iu5.cloudfront.net/ads1/data/lambda_virus.fa"
   ]
  },
  {
   "cell_type": "code",
   "execution_count": 7,
   "metadata": {},
   "outputs": [],
   "source": [
    "genome = readGenome('lambda_virus.fa')"
   ]
  },
  {
   "cell_type": "code",
   "execution_count": 14,
   "metadata": {},
   "outputs": [
    {
     "data": {
      "text/plain": [
       "[450, 1908, 2472, 18005, 23320, 33657, 41927, 44806, 45369]"
      ]
     },
     "execution_count": 14,
     "metadata": {},
     "output_type": "execute_result"
    }
   ],
   "source": [
    "naive_match_seq('AGTCGA', genome)"
   ]
  },
  {
   "cell_type": "code",
   "execution_count": 22,
   "metadata": {},
   "outputs": [
    {
     "data": {
      "text/plain": [
       "[49,\n",
       " 282,\n",
       " 299,\n",
       " 302,\n",
       " 380,\n",
       " 1560,\n",
       " 1650,\n",
       " 2235,\n",
       " 2277,\n",
       " 2400,\n",
       " 2562,\n",
       " 2565,\n",
       " 2729,\n",
       " 2823,\n",
       " 3160,\n",
       " 3181,\n",
       " 3946,\n",
       " 4210,\n",
       " 4294,\n",
       " 4309,\n",
       " 4405,\n",
       " 4580,\n",
       " 5069,\n",
       " 5159,\n",
       " 5189,\n",
       " 5231,\n",
       " 5331,\n",
       " 5519,\n",
       " 5737,\n",
       " 5882,\n",
       " 5993,\n",
       " 5996,\n",
       " 6011,\n",
       " 6312,\n",
       " 6522,\n",
       " 6585,\n",
       " 6606,\n",
       " 7316,\n",
       " 7394,\n",
       " 7819,\n",
       " 7904,\n",
       " 7966,\n",
       " 7998,\n",
       " 8534,\n",
       " 8648,\n",
       " 8946,\n",
       " 9339,\n",
       " 9354,\n",
       " 9530,\n",
       " 9842,\n",
       " 9966,\n",
       " 10041,\n",
       " 10250,\n",
       " 10416,\n",
       " 10445,\n",
       " 10484,\n",
       " 10527,\n",
       " 10874,\n",
       " 11193,\n",
       " 11292,\n",
       " 11505,\n",
       " 11568,\n",
       " 11655,\n",
       " 11745,\n",
       " 11838,\n",
       " 12078,\n",
       " 12180,\n",
       " 12222,\n",
       " 12697,\n",
       " 12745,\n",
       " 12819,\n",
       " 12880,\n",
       " 12935,\n",
       " 13011,\n",
       " 13087,\n",
       " 13256,\n",
       " 13415,\n",
       " 13526,\n",
       " 13813,\n",
       " 14259,\n",
       " 15385,\n",
       " 15473,\n",
       " 16192,\n",
       " 17101,\n",
       " 17437,\n",
       " 17755,\n",
       " 17936,\n",
       " 17989,\n",
       " 18016,\n",
       " 18040,\n",
       " 18727,\n",
       " 18853,\n",
       " 18911,\n",
       " 19232,\n",
       " 19263,\n",
       " 19310,\n",
       " 19833,\n",
       " 19929,\n",
       " 19932,\n",
       " 19947,\n",
       " 19980,\n",
       " 20793,\n",
       " 20802,\n",
       " 21305,\n",
       " 21528,\n",
       " 21627,\n",
       " 21684,\n",
       " 22414,\n",
       " 22660,\n",
       " 22670,\n",
       " 22787,\n",
       " 23326,\n",
       " 24063,\n",
       " 24145,\n",
       " 24409,\n",
       " 24595,\n",
       " 24681,\n",
       " 25120,\n",
       " 25139,\n",
       " 25210,\n",
       " 25381,\n",
       " 25384,\n",
       " 25648,\n",
       " 25664,\n",
       " 25773,\n",
       " 25987,\n",
       " 26196,\n",
       " 26208,\n",
       " 26576,\n",
       " 26587,\n",
       " 26653,\n",
       " 26736,\n",
       " 27892,\n",
       " 27967,\n",
       " 28042,\n",
       " 28622,\n",
       " 28840,\n",
       " 28976,\n",
       " 29119,\n",
       " 30029,\n",
       " 30530,\n",
       " 30673,\n",
       " 30902,\n",
       " 31619,\n",
       " 31645,\n",
       " 31682,\n",
       " 31843,\n",
       " 31859,\n",
       " 32069,\n",
       " 33180,\n",
       " 33365,\n",
       " 33715,\n",
       " 33952,\n",
       " 34321,\n",
       " 34421,\n",
       " 34841,\n",
       " 34848,\n",
       " 34956,\n",
       " 35145,\n",
       " 35253,\n",
       " 35289,\n",
       " 35643,\n",
       " 36185,\n",
       " 36687,\n",
       " 36869,\n",
       " 38030,\n",
       " 38197,\n",
       " 38381,\n",
       " 38479,\n",
       " 38737,\n",
       " 39282,\n",
       " 39600,\n",
       " 39681,\n",
       " 39786,\n",
       " 39828,\n",
       " 39954,\n",
       " 40119,\n",
       " 40337,\n",
       " 40508,\n",
       " 40781,\n",
       " 40887,\n",
       " 40890,\n",
       " 40946,\n",
       " 41110,\n",
       " 41225,\n",
       " 41264,\n",
       " 41282,\n",
       " 41324,\n",
       " 41570,\n",
       " 41693,\n",
       " 41717,\n",
       " 41768,\n",
       " 42079,\n",
       " 42082,\n",
       " 42266,\n",
       " 42353,\n",
       " 43039,\n",
       " 43184,\n",
       " 43389,\n",
       " 43662,\n",
       " 43689,\n",
       " 45033,\n",
       " 45727,\n",
       " 45763,\n",
       " 45781,\n",
       " 45790,\n",
       " 46173,\n",
       " 46215,\n",
       " 47028,\n",
       " 47220,\n",
       " 47930,\n",
       " 48101,\n",
       " 48256,\n",
       " 48301,\n",
       " 48411]"
      ]
     },
     "execution_count": 22,
     "metadata": {},
     "output_type": "execute_result"
    }
   ],
   "source": [
    "(naive_2mm('AGGAGGTT', genome))"
   ]
  },
  {
   "cell_type": "code",
   "execution_count": 23,
   "metadata": {},
   "outputs": [
    {
     "name": "stdout",
     "output_type": "stream",
     "text": [
      "--2019-08-08 10:13:53--  https://d28rh4a8wq0iu5.cloudfront.net/ads1/data/ERR037900_1.first1000.fastq\n",
      "Resolving d28rh4a8wq0iu5.cloudfront.net (d28rh4a8wq0iu5.cloudfront.net)... 13.33.50.226, 13.33.50.55, 13.33.50.92, ...\n",
      "Connecting to d28rh4a8wq0iu5.cloudfront.net (d28rh4a8wq0iu5.cloudfront.net)|13.33.50.226|:443... connected.\n",
      "HTTP request sent, awaiting response... 200 OK\n",
      "Length: 241626 (236K) [application/octet-stream]\n",
      "Saving to: ‘ERR037900_1.first1000.fastq’\n",
      "\n",
      "ERR037900_1.first10 100%[===================>] 235.96K   929KB/s    in 0.3s    \n",
      "\n",
      "2019-08-08 10:13:54 (929 KB/s) - ‘ERR037900_1.first1000.fastq’ saved [241626/241626]\n",
      "\n"
     ]
    }
   ],
   "source": [
    "!wget --no-check https://d28rh4a8wq0iu5.cloudfront.net/ads1/data/ERR037900_1.first1000.fastq"
   ]
  },
  {
   "cell_type": "code",
   "execution_count": 24,
   "metadata": {},
   "outputs": [],
   "source": [
    "def readFastq(filename):\n",
    "    sequences = []\n",
    "    qualities = []\n",
    "    with open(filename) as fh:\n",
    "        while True:\n",
    "            fh.readline()  # skip name line\n",
    "            seq = fh.readline().rstrip()  # read base sequence\n",
    "            fh.readline()  # skip placeholder line\n",
    "            qual = fh.readline().rstrip() # base quality line\n",
    "            if len(seq) == 0:\n",
    "                break\n",
    "            sequences.append(seq)\n",
    "            qualities.append(qual)\n",
    "    return sequences, qualities"
   ]
  },
  {
   "cell_type": "code",
   "execution_count": 25,
   "metadata": {},
   "outputs": [],
   "source": [
    "seqs, quals = readFastq('ERR037900_1.first1000.fastq')"
   ]
  },
  {
   "cell_type": "code",
   "execution_count": 32,
   "metadata": {},
   "outputs": [
    {
     "ename": "NameError",
     "evalue": "name 'listquals' is not defined",
     "output_type": "error",
     "traceback": [
      "\u001b[0;31m---------------------------------------------------------------------------\u001b[0m",
      "\u001b[0;31mNameError\u001b[0m                                 Traceback (most recent call last)",
      "\u001b[0;32m<ipython-input-32-3aa27341558f>\u001b[0m in \u001b[0;36m<module>\u001b[0;34m\u001b[0m\n\u001b[0;32m----> 1\u001b[0;31m \u001b[0mlistquals\u001b[0m\u001b[0;34m[\u001b[0m\u001b[0;36m0\u001b[0m\u001b[0;34m]\u001b[0m\u001b[0;34m\u001b[0m\u001b[0;34m\u001b[0m\u001b[0m\n\u001b[0m",
      "\u001b[0;31mNameError\u001b[0m: name 'listquals' is not defined"
     ]
    }
   ],
   "source": [
    "listquals[0]"
   ]
  },
  {
   "cell_type": "code",
   "execution_count": 33,
   "metadata": {},
   "outputs": [],
   "source": [
    "quals2 =  [list(x) for x in quals]"
   ]
  },
  {
   "cell_type": "code",
   "execution_count": 38,
   "metadata": {},
   "outputs": [],
   "source": [
    "# Convert Phred score to q number\n",
    "for i in range(0, len(quals2)):\n",
    "    quals2[i] = [ ord(y) - 33 for y in quals2[i]]"
   ]
  },
  {
   "cell_type": "code",
   "execution_count": 42,
   "metadata": {},
   "outputs": [],
   "source": [
    "average = []\n",
    "for i in range(0, len(quals2[0])):\n",
    "    mean_q = 0\n",
    "    for j in range(0, len(quals2)):\n",
    "        mean_q += quals2[j][i]\n",
    "    average.append(mean_q)"
   ]
  },
  {
   "cell_type": "code",
   "execution_count": 45,
   "metadata": {},
   "outputs": [
    {
     "data": {
      "text/plain": [
       "66"
      ]
     },
     "execution_count": 45,
     "metadata": {},
     "output_type": "execute_result"
    }
   ],
   "source": [
    "average.index(4526)"
   ]
  },
  {
   "cell_type": "code",
   "execution_count": null,
   "metadata": {},
   "outputs": [],
   "source": []
  }
 ],
 "metadata": {
  "kernelspec": {
   "display_name": "Python 3",
   "language": "python",
   "name": "python3"
  },
  "language_info": {
   "codemirror_mode": {
    "name": "ipython",
    "version": 3
   },
   "file_extension": ".py",
   "mimetype": "text/x-python",
   "name": "python",
   "nbconvert_exporter": "python",
   "pygments_lexer": "ipython3",
   "version": "3.7.3"
  }
 },
 "nbformat": 4,
 "nbformat_minor": 2
}
